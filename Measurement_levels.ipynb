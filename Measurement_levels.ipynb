{
 "cells": [
  {
   "cell_type": "markdown",
   "id": "ea799575",
   "metadata": {},
   "source": [
    "# What can we do with different kinds of data?\n",
    "\n"
   ]
  },
  {
   "cell_type": "code",
   "execution_count": 105,
   "id": "c0362496",
   "metadata": {},
   "outputs": [],
   "source": [
    "import pandas as pd\n",
    "from random import randrange "
   ]
  },
  {
   "cell_type": "markdown",
   "id": "a0fbe7f5",
   "metadata": {},
   "source": [
    "# Interval data, e.g. age in years\n",
    "\n",
    "Question: What is your age?"
   ]
  },
  {
   "cell_type": "code",
   "execution_count": 13,
   "id": "aa87bbe5",
   "metadata": {},
   "outputs": [
    {
     "name": "stdout",
     "output_type": "stream",
     "text": [
      "12\n"
     ]
    },
    {
     "data": {
      "text/html": [
       "<div>\n",
       "<style scoped>\n",
       "    .dataframe tbody tr th:only-of-type {\n",
       "        vertical-align: middle;\n",
       "    }\n",
       "\n",
       "    .dataframe tbody tr th {\n",
       "        vertical-align: top;\n",
       "    }\n",
       "\n",
       "    .dataframe thead th {\n",
       "        text-align: right;\n",
       "    }\n",
       "</style>\n",
       "<table border=\"1\" class=\"dataframe\">\n",
       "  <thead>\n",
       "    <tr style=\"text-align: right;\">\n",
       "      <th></th>\n",
       "      <th>age</th>\n",
       "    </tr>\n",
       "  </thead>\n",
       "  <tbody>\n",
       "    <tr>\n",
       "      <th>0</th>\n",
       "      <td>23</td>\n",
       "    </tr>\n",
       "    <tr>\n",
       "      <th>1</th>\n",
       "      <td>26</td>\n",
       "    </tr>\n",
       "    <tr>\n",
       "      <th>2</th>\n",
       "      <td>24</td>\n",
       "    </tr>\n",
       "    <tr>\n",
       "      <th>3</th>\n",
       "      <td>33</td>\n",
       "    </tr>\n",
       "    <tr>\n",
       "      <th>4</th>\n",
       "      <td>33</td>\n",
       "    </tr>\n",
       "    <tr>\n",
       "      <th>5</th>\n",
       "      <td>22</td>\n",
       "    </tr>\n",
       "    <tr>\n",
       "      <th>6</th>\n",
       "      <td>30</td>\n",
       "    </tr>\n",
       "    <tr>\n",
       "      <th>7</th>\n",
       "      <td>30</td>\n",
       "    </tr>\n",
       "    <tr>\n",
       "      <th>8</th>\n",
       "      <td>22</td>\n",
       "    </tr>\n",
       "    <tr>\n",
       "      <th>9</th>\n",
       "      <td>23</td>\n",
       "    </tr>\n",
       "    <tr>\n",
       "      <th>10</th>\n",
       "      <td>33</td>\n",
       "    </tr>\n",
       "    <tr>\n",
       "      <th>11</th>\n",
       "      <td>29</td>\n",
       "    </tr>\n",
       "  </tbody>\n",
       "</table>\n",
       "</div>"
      ],
      "text/plain": [
       "    age\n",
       "0    23\n",
       "1    26\n",
       "2    24\n",
       "3    33\n",
       "4    33\n",
       "5    22\n",
       "6    30\n",
       "7    30\n",
       "8    22\n",
       "9    23\n",
       "10   33\n",
       "11   29"
      ]
     },
     "execution_count": 13,
     "metadata": {},
     "output_type": "execute_result"
    }
   ],
   "source": [
    "\n",
    "age=[22,22,21,20,21,21,20,22,21,21,21,36]\n",
    "NumberofStudents=len(age)\n",
    "print(NumberofStudents)\n",
    "\n",
    "age=[randrange(20, 35) for _ in range(NumberofStudents)]\n",
    "df=pd.DataFrame(age,columns=[\"age\"])\n",
    "df.describe()\n",
    "df"
   ]
  },
  {
   "cell_type": "markdown",
   "id": "c41ea170",
   "metadata": {},
   "source": [
    "We can count values:"
   ]
  },
  {
   "cell_type": "code",
   "execution_count": 14,
   "id": "74c40a5e",
   "metadata": {},
   "outputs": [
    {
     "data": {
      "text/plain": [
       "<AxesSubplot: >"
      ]
     },
     "execution_count": 14,
     "metadata": {},
     "output_type": "execute_result"
    },
    {
     "data": {
      "image/png": "[encoded data removed]",
      "text/plain": [
       "<Figure size 432x288 with 1 Axes>"
      ]
     },
     "metadata": {
      "needs_background": "light"
     },
     "output_type": "display_data"
    }
   ],
   "source": [
    "df.age.value_counts().plot.barh()"
   ]
  },
  {
   "cell_type": "markdown",
   "id": "d99b9ffa",
   "metadata": {},
   "source": [
    "We can make a histogram."
   ]
  },
  {
   "cell_type": "code",
   "execution_count": 20,
   "id": "3c6cd886",
   "metadata": {},
   "outputs": [
    {
     "data": {
      "text/plain": [
       "<AxesSubplot: ylabel='Frequency'>"
      ]
     },
     "execution_count": 20,
     "metadata": {},
     "output_type": "execute_result"
    },
    {
     "data": {
      "image/png": "[encoded data removed]",
      "text/plain": [
       "<Figure size 432x288 with 1 Axes>"
      ]
     },
     "metadata": {
      "needs_background": "light"
     },
     "output_type": "display_data"
    }
   ],
   "source": [
    "df.plot.hist(bins=6)"
   ]
  },
  {
   "cell_type": "code",
   "execution_count": 63,
   "id": "96d0698d",
   "metadata": {},
   "outputs": [
    {
     "data": {
      "text/plain": [
       "[Text(0.5, 1.0, 'Mean with SD')]"
      ]
     },
     "execution_count": 63,
     "metadata": {},
     "output_type": "execute_result"
    },
    {
     "data": {
      "image/png": "[encoded data removed]",
      "text/plain": [
       "<Figure size 432x288 with 3 Axes>"
      ]
     },
     "metadata": {
      "needs_background": "light"
     },
     "output_type": "display_data"
    }
   ],
   "source": [
    "import seaborn as sns\n",
    "import numpy as np\n",
    "import matplotlib.pyplot as plt\n",
    "\n",
    "fig, axs = plt.subplots(1,3)\n",
    "sns.barplot(ax=axs[2], data=age, estimator=np.mean, errorbar=('ci', 95), capsize=.1).set(title='Mean with 95%-CI')\n",
    "sns.barplot(ax=axs[1], data=age, estimator=np.mean, errorbar=('se'), capsize=.1).set(title='Mean with SE')\n",
    "sns.barplot(ax=axs[0], data=age, estimator=np.mean, errorbar=('sd'), capsize=.1).set(title='Mean with SD')"
   ]
  },
  {
   "cell_type": "markdown",
   "id": "36a63eff",
   "metadata": {},
   "source": [
    "# Ordinal data\n",
    "\n",
    "Question: How spicy do you like your Burito? \n",
    "(not spicy, little spicy, medium spicy, very spicy, insane) (1-5)\n",
    "\n",
    "Why is this ordinal data? --> because there is a defined order but no defined distance between the answers.\n",
    "\n",
    "Question2: How worried are you about the assignment? (1-5)\n",
    "\n",
    "This is also ordinal data. But we can define that the distance is to be considered equal to treat it as interval data."
   ]
  },
  {
   "cell_type": "code",
   "execution_count": 87,
   "id": "11d76f8d",
   "metadata": {},
   "outputs": [
    {
     "name": "stdout",
     "output_type": "stream",
     "text": [
      "Does it make sense to calculate the mean value of ordinal data? \n",
      " \n",
      " --> No! <-- \n",
      "\n",
      "\n",
      "             age     burito       exam\n",
      "count  12.000000  12.000000  12.000000\n",
      "mean   27.333333   2.833333   3.083333\n",
      "std     4.478907   1.114641   1.505042\n",
      "min    22.000000   1.000000   1.000000\n",
      "25%    23.000000   2.000000   2.000000\n",
      "50%    27.500000   3.000000   3.000000\n",
      "75%    30.750000   4.000000   4.250000\n",
      "max    33.000000   4.000000   5.000000\n"
     ]
    },
    {
     "data": {
      "text/html": [
       "<div>\n",
       "<style scoped>\n",
       "    .dataframe tbody tr th:only-of-type {\n",
       "        vertical-align: middle;\n",
       "    }\n",
       "\n",
       "    .dataframe tbody tr th {\n",
       "        vertical-align: top;\n",
       "    }\n",
       "\n",
       "    .dataframe thead th {\n",
       "        text-align: right;\n",
       "    }\n",
       "</style>\n",
       "<table border=\"1\" class=\"dataframe\">\n",
       "  <thead>\n",
       "    <tr style=\"text-align: right;\">\n",
       "      <th></th>\n",
       "      <th>age</th>\n",
       "      <th>burito</th>\n",
       "      <th>exam</th>\n",
       "    </tr>\n",
       "  </thead>\n",
       "  <tbody>\n",
       "    <tr>\n",
       "      <th>0</th>\n",
       "      <td>23</td>\n",
       "      <td>4</td>\n",
       "      <td>1</td>\n",
       "    </tr>\n",
       "    <tr>\n",
       "      <th>1</th>\n",
       "      <td>26</td>\n",
       "      <td>4</td>\n",
       "      <td>4</td>\n",
       "    </tr>\n",
       "    <tr>\n",
       "      <th>2</th>\n",
       "      <td>24</td>\n",
       "      <td>4</td>\n",
       "      <td>3</td>\n",
       "    </tr>\n",
       "    <tr>\n",
       "      <th>3</th>\n",
       "      <td>33</td>\n",
       "      <td>3</td>\n",
       "      <td>5</td>\n",
       "    </tr>\n",
       "    <tr>\n",
       "      <th>4</th>\n",
       "      <td>33</td>\n",
       "      <td>2</td>\n",
       "      <td>5</td>\n",
       "    </tr>\n",
       "    <tr>\n",
       "      <th>5</th>\n",
       "      <td>22</td>\n",
       "      <td>4</td>\n",
       "      <td>5</td>\n",
       "    </tr>\n",
       "    <tr>\n",
       "      <th>6</th>\n",
       "      <td>30</td>\n",
       "      <td>3</td>\n",
       "      <td>3</td>\n",
       "    </tr>\n",
       "    <tr>\n",
       "      <th>7</th>\n",
       "      <td>30</td>\n",
       "      <td>1</td>\n",
       "      <td>2</td>\n",
       "    </tr>\n",
       "    <tr>\n",
       "      <th>8</th>\n",
       "      <td>22</td>\n",
       "      <td>1</td>\n",
       "      <td>2</td>\n",
       "    </tr>\n",
       "    <tr>\n",
       "      <th>9</th>\n",
       "      <td>23</td>\n",
       "      <td>2</td>\n",
       "      <td>1</td>\n",
       "    </tr>\n",
       "    <tr>\n",
       "      <th>10</th>\n",
       "      <td>33</td>\n",
       "      <td>3</td>\n",
       "      <td>2</td>\n",
       "    </tr>\n",
       "    <tr>\n",
       "      <th>11</th>\n",
       "      <td>29</td>\n",
       "      <td>3</td>\n",
       "      <td>4</td>\n",
       "    </tr>\n",
       "  </tbody>\n",
       "</table>\n",
       "</div>"
      ],
      "text/plain": [
       "    age  burito  exam\n",
       "0    23       4     1\n",
       "1    26       4     4\n",
       "2    24       4     3\n",
       "3    33       3     5\n",
       "4    33       2     5\n",
       "5    22       4     5\n",
       "6    30       3     3\n",
       "7    30       1     2\n",
       "8    22       1     2\n",
       "9    23       2     1\n",
       "10   33       3     2\n",
       "11   29       3     4"
      ]
     },
     "execution_count": 87,
     "metadata": {},
     "output_type": "execute_result"
    }
   ],
   "source": [
    "burito=[randrange(1,6) for i in range(NumberofStudents)]\n",
    "#burito=[1,3,2,1,2,2,3,2,2,3,3,4]\n",
    "\n",
    "\n",
    "df=pd.DataFrame({\"age\":age,\"burito\":burito})\n",
    "\n",
    "exam=[5,5,5,5,5,5,5,5,5,4,5,1]\n",
    "\n",
    "exam=[randrange(1,6) for i in range(NumberofStudents)]\n",
    "#exam=[]\n",
    "\n",
    "\n",
    "df=pd.DataFrame({\"age\":age,\"burito\":burito,\"exam\":exam})\n",
    "\n",
    "print(\"Does it make sense to calculate the mean value of ordinal data? \\n \\n --> No! <-- \\n\\n\")\n",
    "\n",
    "print(df.describe())\n",
    "df"
   ]
  },
  {
   "cell_type": "code",
   "execution_count": 86,
   "id": "4ee065d7",
   "metadata": {},
   "outputs": [
    {
     "data": {
      "text/plain": [
       "<AxesSubplot: title={'center': 'how spicy do you like your burito?'}>"
      ]
     },
     "execution_count": 86,
     "metadata": {},
     "output_type": "execute_result"
    },
    {
     "data": {
      "image/png": "[encoded data removed]",
      "text/plain": [
       "<Figure size 432x288 with 1 Axes>"
      ]
     },
     "metadata": {
      "needs_background": "light"
     },
     "output_type": "display_data"
    }
   ],
   "source": [
    "df.burito.value_counts().plot.barh(title=\"how spicy do you like your burito?\")"
   ]
  },
  {
   "cell_type": "code",
   "execution_count": 68,
   "id": "577cbd51",
   "metadata": {},
   "outputs": [
    {
     "data": {
      "text/plain": [
       "<AxesSubplot: ylabel='Frequency'>"
      ]
     },
     "execution_count": 68,
     "metadata": {},
     "output_type": "execute_result"
    },
    {
     "data": {
      "image/png": "[encoded data removed]",
      "text/plain": [
       "<Figure size 432x288 with 1 Axes>"
      ]
     },
     "metadata": {
      "needs_background": "light"
     },
     "output_type": "display_data"
    }
   ],
   "source": [
    "df.burito.plot.hist(bins=5)"
   ]
  },
  {
   "cell_type": "code",
   "execution_count": 88,
   "id": "a2877ae0",
   "metadata": {},
   "outputs": [
    {
     "data": {
      "image/png": "[encoded data removed]",
      "text/plain": [
       "<Figure size 432x288 with 1 Axes>"
      ]
     },
     "metadata": {
      "needs_background": "light"
     },
     "output_type": "display_data"
    }
   ],
   "source": [
    "import plot_likert\n",
    "likert=df[[\"burito\",\"exam\"]]\n",
    "plot_likert.plot_likert(likert.astype(str), plot_likert.scales.raw5, plot_percentage=True);"
   ]
  },
  {
   "cell_type": "markdown",
   "id": "cf449b7a",
   "metadata": {},
   "source": [
    "# Nominal Data, e.g. nationality or gender"
   ]
  },
  {
   "cell_type": "code",
   "execution_count": 89,
   "id": "46fd6ded",
   "metadata": {},
   "outputs": [
    {
     "name": "stdout",
     "output_type": "stream",
     "text": [
      "12\n"
     ]
    }
   ],
   "source": [
    "nation=\"Be,De,De,Aus,De,At,In,De,De,Sg,De,De\"\n",
    "\n",
    "nation=[i.upper() for i in nation.split(\",\")]\n",
    "print(len(nation))\n",
    "df=pd.DataFrame({\"age\":age,\"nation\":nation,\"burito\":burito,\"exam\":exam})\n",
    "#print(\"gender: \", df.gender.describe())\n",
    "\n",
    "#df=pd.DataFrame({\"nation\":nation})"
   ]
  },
  {
   "cell_type": "code",
   "execution_count": 90,
   "id": "b07812fa",
   "metadata": {},
   "outputs": [
    {
     "name": "stdout",
     "output_type": "stream",
     "text": [
      "             age     burito       exam\n",
      "count  12.000000  12.000000  12.000000\n",
      "mean   27.333333   2.833333   3.083333\n",
      "std     4.478907   1.114641   1.505042\n",
      "min    22.000000   1.000000   1.000000\n",
      "25%    23.000000   2.000000   2.000000\n",
      "50%    27.500000   3.000000   3.000000\n",
      "75%    30.750000   4.000000   4.250000\n",
      "max    33.000000   4.000000   5.000000\n"
     ]
    },
    {
     "data": {
      "image/png": "[encoded data removed]",
      "text/plain": [
       "<Figure size 432x288 with 1 Axes>"
      ]
     },
     "metadata": {
      "needs_background": "light"
     },
     "output_type": "display_data"
    }
   ],
   "source": [
    "df.nation.value_counts().plot.barh()\n",
    "print(df.describe())"
   ]
  },
  {
   "cell_type": "markdown",
   "id": "4b683340",
   "metadata": {},
   "source": [
    "# Let's have a look at crosstabulation!"
   ]
  },
  {
   "cell_type": "code",
   "execution_count": 91,
   "id": "e06bc889",
   "metadata": {},
   "outputs": [
    {
     "data": {
      "text/html": [
       "<div>\n",
       "<style scoped>\n",
       "    .dataframe tbody tr th:only-of-type {\n",
       "        vertical-align: middle;\n",
       "    }\n",
       "\n",
       "    .dataframe tbody tr th {\n",
       "        vertical-align: top;\n",
       "    }\n",
       "\n",
       "    .dataframe thead th {\n",
       "        text-align: right;\n",
       "    }\n",
       "</style>\n",
       "<table border=\"1\" class=\"dataframe\">\n",
       "  <thead>\n",
       "    <tr style=\"text-align: right;\">\n",
       "      <th>exam</th>\n",
       "      <th>1</th>\n",
       "      <th>2</th>\n",
       "      <th>3</th>\n",
       "      <th>4</th>\n",
       "      <th>5</th>\n",
       "    </tr>\n",
       "    <tr>\n",
       "      <th>nation</th>\n",
       "      <th></th>\n",
       "      <th></th>\n",
       "      <th></th>\n",
       "      <th></th>\n",
       "      <th></th>\n",
       "    </tr>\n",
       "  </thead>\n",
       "  <tbody>\n",
       "    <tr>\n",
       "      <th>AT</th>\n",
       "      <td>0</td>\n",
       "      <td>0</td>\n",
       "      <td>0</td>\n",
       "      <td>0</td>\n",
       "      <td>1</td>\n",
       "    </tr>\n",
       "    <tr>\n",
       "      <th>AUS</th>\n",
       "      <td>0</td>\n",
       "      <td>0</td>\n",
       "      <td>0</td>\n",
       "      <td>0</td>\n",
       "      <td>1</td>\n",
       "    </tr>\n",
       "    <tr>\n",
       "      <th>BE</th>\n",
       "      <td>1</td>\n",
       "      <td>0</td>\n",
       "      <td>0</td>\n",
       "      <td>0</td>\n",
       "      <td>0</td>\n",
       "    </tr>\n",
       "    <tr>\n",
       "      <th>DE</th>\n",
       "      <td>0</td>\n",
       "      <td>3</td>\n",
       "      <td>1</td>\n",
       "      <td>2</td>\n",
       "      <td>1</td>\n",
       "    </tr>\n",
       "    <tr>\n",
       "      <th>IN</th>\n",
       "      <td>0</td>\n",
       "      <td>0</td>\n",
       "      <td>1</td>\n",
       "      <td>0</td>\n",
       "      <td>0</td>\n",
       "    </tr>\n",
       "    <tr>\n",
       "      <th>SG</th>\n",
       "      <td>1</td>\n",
       "      <td>0</td>\n",
       "      <td>0</td>\n",
       "      <td>0</td>\n",
       "      <td>0</td>\n",
       "    </tr>\n",
       "  </tbody>\n",
       "</table>\n",
       "</div>"
      ],
      "text/plain": [
       "exam    1  2  3  4  5\n",
       "nation               \n",
       "AT      0  0  0  0  1\n",
       "AUS     0  0  0  0  1\n",
       "BE      1  0  0  0  0\n",
       "DE      0  3  1  2  1\n",
       "IN      0  0  1  0  0\n",
       "SG      1  0  0  0  0"
      ]
     },
     "execution_count": 91,
     "metadata": {},
     "output_type": "execute_result"
    }
   ],
   "source": [
    "\n",
    "contingency=pd.crosstab(df.nation, df.exam)\n",
    "\n",
    "#pd.crosstab(df.gender, df.burito, normalize='index')\n",
    "contingency"
   ]
  },
  {
   "cell_type": "code",
   "execution_count": 92,
   "id": "592d7846",
   "metadata": {},
   "outputs": [
    {
     "data": {
      "text/plain": [
       "<AxesSubplot: xlabel='exam', ylabel='nation'>"
      ]
     },
     "execution_count": 92,
     "metadata": {},
     "output_type": "execute_result"
    },
    {
     "data": {
      "image/png": "[encoded data removed]",
      "text/plain": [
       "<Figure size 432x288 with 2 Axes>"
      ]
     },
     "metadata": {
      "needs_background": "light"
     },
     "output_type": "display_data"
    }
   ],
   "source": [
    "## Illustrate the crostab in a Heatmap:\n",
    "import seaborn as sns\n",
    "sns.heatmap(contingency, annot=True, cmap=\"YlGnBu\")\n"
   ]
  },
  {
   "cell_type": "markdown",
   "id": "b55bd9d4",
   "metadata": {},
   "source": [
    "# Testing a 0-Hypothesis: Are burito & nationality independent?"
   ]
  },
  {
   "cell_type": "code",
   "execution_count": 97,
   "id": "9750e30a",
   "metadata": {},
   "outputs": [
    {
     "name": "stdout",
     "output_type": "stream",
     "text": [
      "p-value:  0.2423921616705121\n",
      "\n",
      "\n",
      " if the p-value is below 0.1 or below 0.05, we reject the 0-Hypothesis. \n",
      "\n",
      " The confidence level is your choice (but you can follow standards)!\n"
     ]
    }
   ],
   "source": [
    "from scipy.stats import chi2_contingency\n",
    "c, p, dof, expected = chi2_contingency(contingency)\n",
    "\n",
    "print(\"p-value: \", p)\n",
    "\n",
    "print(\"\\n\\n if the p-value is below 0.1 or below 0.05, we reject the 0-Hypothesis. \\n\\n The confidence level is your choice (but you can follow standards)!\")"
   ]
  },
  {
   "cell_type": "markdown",
   "id": "04219265",
   "metadata": {},
   "source": [
    "# Some questions to be answered with \"no\" for nominal data"
   ]
  },
  {
   "cell_type": "markdown",
   "id": "d5220253",
   "metadata": {},
   "source": [
    "- Would it make sense to calculate a mean value?\n",
    "- Would it make sense to draw a histogram?"
   ]
  },
  {
   "cell_type": "markdown",
   "id": "c4eb31b9",
   "metadata": {},
   "source": [
    "Would it make sense to *correlate* gender with the other variables?\n",
    "\n",
    "\"NO! --> but we can try burito vs. exam, assuming that both are interval data\"\n"
   ]
  },
  {
   "cell_type": "code",
   "execution_count": 98,
   "id": "ab64d603",
   "metadata": {},
   "outputs": [
    {
     "data": {
      "text/plain": [
       "<seaborn.axisgrid.JointGrid at 0x1d2f76bdca0>"
      ]
     },
     "execution_count": 98,
     "metadata": {},
     "output_type": "execute_result"
    },
    {
     "data": {
      "image/png": "[encoded data removed]",
      "text/plain": [
       "<Figure size 432x432 with 3 Axes>"
      ]
     },
     "metadata": {
      "needs_background": "light"
     },
     "output_type": "display_data"
    }
   ],
   "source": [
    "import seaborn as sns\n",
    "#df.plot.scatter(x=\"gender\", y=\"burito_spicy\")\n",
    "\n",
    "#sns.jointplot(df,x=\"gender\", y=\"burito\", kind=\"reg\")\n",
    "\n",
    "sns.jointplot(df,x=\"exam\", y=\"burito\", kind=\"reg\")\n"
   ]
  },
  {
   "cell_type": "code",
   "execution_count": 99,
   "id": "d014aa1a",
   "metadata": {},
   "outputs": [
    {
     "data": {
      "text/plain": [
       "<seaborn.axisgrid.JointGrid at 0x1d2f79cffd0>"
      ]
     },
     "execution_count": 99,
     "metadata": {},
     "output_type": "execute_result"
    },
    {
     "data": {
      "image/png": "[encoded data removed]",
      "text/plain": [
       "<Figure size 432x432 with 3 Axes>"
      ]
     },
     "metadata": {
      "needs_background": "light"
     },
     "output_type": "display_data"
    }
   ],
   "source": [
    "# or, again - a histogram\n",
    "\n",
    "sns.jointplot(df,x=\"age\", y=\"burito\", kind=\"hist\")"
   ]
  },
  {
   "cell_type": "code",
   "execution_count": 103,
   "id": "667697db",
   "metadata": {},
   "outputs": [
    {
     "data": {
      "text/plain": [
       "[Text(0.5, 1.0, 'Mean with SD')]"
      ]
     },
     "execution_count": 103,
     "metadata": {},
     "output_type": "execute_result"
    },
    {
     "data": {
      "image/png": "[encoded data removed]",
      "text/plain": [
       "<Figure size 432x288 with 1 Axes>"
      ]
     },
     "metadata": {
      "needs_background": "light"
     },
     "output_type": "display_data"
    },
    {
     "data": {
      "image/png": "[encoded data removed]",
      "text/plain": [
       "<Figure size 432x288 with 3 Axes>"
      ]
     },
     "metadata": {
      "needs_background": "light"
     },
     "output_type": "display_data"
    }
   ],
   "source": [
    "#We can compare mean values in a box plot:\n",
    "\n",
    "sns.boxplot(data=df[[\"burito\",\"exam\"]])\n",
    "df.burito.describe()\n",
    "\n",
    "\n",
    "fig, axs = plt.subplots(1,3)\n",
    "sns.barplot(ax=axs[2], data=df[[\"burito\",\"exam\"]], estimator=np.mean, errorbar=('ci', 95), capsize=.1).set(title='Mean with 95%-CI')\n",
    "sns.barplot(ax=axs[1], data=df[[\"burito\",\"exam\"]], estimator=np.mean, errorbar=('se'), capsize=.1).set(title='Mean with SE')\n",
    "sns.barplot(ax=axs[0], data=df[[\"burito\",\"exam\"]], estimator=np.mean, errorbar=('sd'), capsize=.1).set(title='Mean with SD')"
   ]
  },
  {
   "cell_type": "code",
   "execution_count": 104,
   "id": "cc2fc714",
   "metadata": {},
   "outputs": [
    {
     "data": {
      "text/plain": [
       "<seaborn.axisgrid.JointGrid at 0x1d2f7157400>"
      ]
     },
     "execution_count": 104,
     "metadata": {},
     "output_type": "execute_result"
    },
    {
     "data": {
      "image/png": "[encoded data removed]",
      "text/plain": [
       "<Figure size 432x432 with 3 Axes>"
      ]
     },
     "metadata": {
      "needs_background": "light"
     },
     "output_type": "display_data"
    }
   ],
   "source": [
    "# if you assume normal distribution, you can analyze KDE - plots\n",
    "\n",
    "sns.jointplot(df,x=\"exam\", y=\"burito\", kind=\"kde\")"
   ]
  }
 ],
 "metadata": {
  "kernelspec": {
   "display_name": "Python 3 (ipykernel)",
   "language": "python",
   "name": "python3"
  },
  "language_info": {
   "codemirror_mode": {
    "name": "ipython",
    "version": 3
   },
   "file_extension": ".py",
   "mimetype": "text/x-python",
   "name": "python",
   "nbconvert_exporter": "python",
   "pygments_lexer": "ipython3",
   "version": "3.9.7"
  }
 },
 "nbformat": 4,
 "nbformat_minor": 5
}
